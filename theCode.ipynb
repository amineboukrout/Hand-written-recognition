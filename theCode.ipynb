{
 "cells": [
  {
   "cell_type": "code",
   "execution_count": 39,
   "metadata": {
    "collapsed": true
   },
   "outputs": [],
   "source": [
    "from sklearn.neural_network import MLPClassifier\n",
    "import matplotlib.pyplot as plt\n",
    "from sklearn.datasets import fetch_mldata\n",
    "from sklearn.model_selection import train_test_split\n",
    "import cv2\n",
    "from sklearn.linear_model import LogisticRegression\n",
    "import numpy as np\n",
    "import pandas as pd\n",
    "import pytesseract\n",
    "from PIL import Image\n",
    "import os"
   ]
  },
  {
   "cell_type": "code",
   "execution_count": 9,
   "metadata": {},
   "outputs": [
    {
     "name": "stdout",
     "output_type": "stream",
     "text": [
      "3.4.1\n"
     ]
    }
   ],
   "source": [
    "print(cv2.__version__)\n",
    "# mnist = fetch_mldata(\"MNIST original\")\n",
    "# x_train, y_train = mnist.data / 255., mnist.target"
   ]
  },
  {
   "cell_type": "code",
   "execution_count": 4,
   "metadata": {},
   "outputs": [
    {
     "name": "stdout",
     "output_type": "stream",
     "text": [
      "(1797, 64)\n(1797,)\n"
     ]
    },
    {
     "data": {
      "text/plain": [
       "<matplotlib.image.AxesImage at 0x1aea928c828>"
      ]
     },
     "execution_count": 4,
     "metadata": {},
     "output_type": "execute_result"
    },
    {
     "data": {
      "image/png": "[encoded data removed]",
      "text/plain": [
       "<matplotlib.figure.Figure at 0x1aea91fe518>"
      ]
     },
     "metadata": {},
     "output_type": "display_data"
    }
   ],
   "source": [
    "from sklearn.datasets import load_digits\n",
    "digits = load_digits()\n",
    "print(digits.data.shape)\n",
    "print(digits.target.shape)\n",
    "plt.imshow(np.reshape(digits.data[9],(8,8)),cmap=plt.cm.gray)"
   ]
  },
  {
   "cell_type": "code",
   "execution_count": 5,
   "metadata": {},
   "outputs": [
    {
     "data": {
      "image/png": "[encoded data removed]",
      "text/plain": [
       "<matplotlib.figure.Figure at 0x1aea91feb38>"
      ]
     },
     "metadata": {},
     "output_type": "display_data"
    }
   ],
   "source": [
    "plt.figure(figsize=(20,4))\n",
    "data=enumerate(zip(digits.data[0:5],digits.target[0:5]))\n",
    "for index,(image,label) in data:\n",
    "    plt.subplot(1,5,index+1)\n",
    "    plt.imshow(np.reshape(image,(8,8)),cmap=plt.cm.gray)\n",
    "    plt.title('training: %i\\n' %label,fontsize=20)\n",
    "plt.show()"
   ]
  },
  {
   "cell_type": "code",
   "execution_count": 6,
   "metadata": {},
   "outputs": [
    {
     "name": "stdout",
     "output_type": "stream",
     "text": [
      "True\nTrue\n"
     ]
    }
   ],
   "source": [
    "xtrain,xtest,ytrain,ytest=train_test_split(digits.data,digits.target,test_size=0.33)\n",
    "print(len(xtrain)==len(ytrain))\n",
    "print(len(ytest)==len(xtest))"
   ]
  },
  {
   "cell_type": "code",
   "execution_count": 69,
   "metadata": {
    "collapsed": true
   },
   "outputs": [
    {
     "name": "stdout",
     "output_type": "stream",
     "text": [
      "4 [4]\n5 [2]\n4 [2]\n4 [4]\n2 [4]\n0 [2]\n7 [4]\n7 [4]\n0 [2]\n7 [2]\n8 [4]\n9 [2]\n0 [2]\n7 [2]\n4 [2]\n9 [2]\n3 [2]\n8 [4]\n2 [2]\n2 [2]\n0 [2]\n8 [4]\n9 [9]\n0 [2]\n2 [2]\n2 [2]\n1 [4]\n1 [4]\n6 [4]\n9 [9]\n2 [2]\n0 [2]\n0 [2]\n4 [2]\n1 [2]\n6 [2]\n2 [2]\n8 [2]\n3 [9]\n2 [4]\n8 [4]\n8 [4]\n1 [4]\n3 [2]\n4 [2]\n4 [4]\n5 [5]\n1 [2]\n3 [5]\n1 [4]\n6 [2]\n2 [2]\n1 [4]\n2 [2]\n9 [9]\n5 [2]\n8 [4]\n5 [2]\n1 [4]\n2 [4]\n5 [5]\n6 [2]\n7 [4]\n7 [4]\n3 [4]\n1 [4]\n5 [2]\n1 [4]\n8 [5]\n6 [2]\n2 [2]\n2 [4]\n1 [4]\n8 [4]\n5 [2]\n1 [4]\n6 [2]\n9 [4]\n3 [9]\n9 [2]\n0 [2]\n0 [2]\n2 [2]\n0 [2]\n2 [2]\n2 [2]\n2 [4]\n7 [4]\n1 [4]\n7 [2]\n2 [2]\n3 [2]\n2 [2]\n3 [2]\n7 [4]\n7 [4]\n2 [4]\n8 [2]\n4 [2]\n9 [2]\n8 [4]\n9 [2]\n2 [4]\n5 [2]\n3 [2]\n3 [4]\n5 [2]\n8 [4]\n3 [9]\n3 [9]\n5 [2]\n0 [2]\n7 [4]\n2 [4]\n9 [2]\n8 [4]\n3 [9]\n2 [2]\n3 [9]\n7 [2]\n1 [4]\n3 [2]\n5 [2]\n8 [4]\n5 [2]\n3 [9]\n1 [4]\n9 [9]\n7 [4]\n8 [9]\n1 [4]\n4 [4]\n6 [2]\n0 [2]\n9 [2]\n0 [2]\n2 [2]\n9 [2]\n0 [2]\n9 [4]\n4 [4]\n6 [4]\n1 [4]\n5 [5]\n9 [5]\n0 [2]\n4 [2]\n2 [2]\n4 [2]\n8 [4]\n6 [2]\n4 [4]\n0 [2]\n6 [2]\n2 [4]\n6 [2]\n5 [2]\n2 [2]\n4 [4]\n8 [4]\n6 [2]\n0 [2]\n0 [2]\n4 [2]\n5 [5]\n4 [2]\n1 [4]\n0 [2]\n9 [9]\n5 [2]\n4 [2]\n5 [5]\n3 [2]\n7 [4]\n5 [2]\n7 [4]\n7 [4]\n7 [4]\n6 [2]\n5 [2]\n0 [2]\n0 [2]\n1 [4]\n7 [4]\n6 [2]\n8 [4]\n6 [2]\n7 [4]\n4 [2]\n9 [9]\n1 [4]\n0 [2]\n6 [2]\n7 [4]\n9 [9]\n6 [2]\n5 [4]\n4 [2]\n4 [4]\n5 [2]\n4 [4]\n7 [4]\n6 [2]\n5 [2]\n2 [2]\n5 [2]\n7 [4]\n7 [4]\n5 [2]\n2 [2]\n4 [2]\n3 [4]\n2 [2]\n6 [2]\n2 [2]\n0 [2]\n6 [2]\n1 [4]\n2 [2]\n2 [2]\n2 [4]\n3 [9]\n8 [4]\n2 [4]\n8 [4]\n8 [4]\n4 [2]\n2 [4]\n9 [2]\n5 [2]\n4 [4]\n0 [2]\n8 [4]\n9 [2]\n7 [2]\n3 [2]\n8 [4]\n0 [2]\n2 [2]\n6 [2]\n5 [2]\n8 [9]\n4 [2]\n9 [5]\n0 [2]\n8 [4]\n5 [2]\n4 [4]\n5 [4]\n5 [2]\n4 [2]\n7 [4]\n6 [4]\n1 [4]\n8 [4]\n9 [5]\n6 [2]\n8 [4]\n2 [2]\n8 [4]\n4 [2]\n2 [2]\n3 [2]\n3 [2]\n7 [2]\n3 [9]\n2 [9]\n8 [4]\n1 [4]\n8 [4]\n2 [2]\n8 [4]\n3 [2]\n5 [2]\n5 [2]\n0 [2]\n7 [4]\n9 [5]\n0 [2]\n8 [4]\n3 [9]\n3 [9]\n0 [2]\n0 [2]\n7 [4]\n4 [2]\n7 [4]\n9 [2]\n5 [2]\n4 [2]\n4 [2]\n4 [2]\n1 [4]\n8 [4]\n0 [2]\n4 [2]\n4 [2]\n5 [2]\n4 [4]\n4 [4]\n2 [2]\n5 [2]\n7 [4]\n3 [5]\n8 [4]\n3 [2]\n2 [2]\n3 [2]\n3 [2]\n7 [2]\n2 [4]\n6 [4]\n6 [2]\n5 [2]\n5 [4]\n4 [2]\n9 [5]\n9 [2]\n0 [2]\n6 [2]\n8 [2]\n4 [2]\n6 [4]\n9 [9]\n5 [2]\n3 [4]\n0 [2]\n4 [2]\n1 [2]\n4 [2]\n4 [4]\n0 [2]\n8 [4]\n0 [2]\n9 [2]\n9 [2]\n2 [2]\n8 [2]\n7 [4]\n0 [2]\n2 [9]\n8 [4]\n9 [5]\n4 [4]\n9 [2]\n5 [2]\n1 [4]\n3 [9]\n1 [1]\n3 [4]\n3 [2]\n8 [2]\n3 [2]\n8 [5]\n1 [4]\n9 [2]\n8 [4]\n5 [2]\n0 [2]\n0 [2]\n5 [2]\n4 [2]\n6 [2]\n9 [2]\n4 [2]\n6 [2]\n4 [4]\n6 [2]\n8 [2]\n5 [2]\n1 [4]\n9 [4]\n8 [4]\n1 [4]\n1 [4]\n9 [4]\n2 [2]\n3 [5]\n0 [2]\n9 [2]\n2 [2]\n2 [2]\n6 [2]\n5 [2]\n4 [2]\n4 [2]\n7 [2]\n9 [4]\n8 [4]\n4 [2]\n1 [4]\n6 [2]\n5 [4]\n1 [4]\n2 [2]\n6 [2]\n2 [4]\n2 [2]\n1 [4]\n8 [4]\n1 [4]\n6 [2]\n3 [2]\n5 [4]\n4 [4]\n4 [2]\n7 [4]\n"
     ]
    },
    {
     "name": "stdout",
     "output_type": "stream",
     "text": [
      "1 [4]\n2 [2]\n1 [4]\n3 [4]\n6 [2]\n2 [2]\n0 [2]\n5 [2]\n2 [4]\n0 [2]\n1 [2]\n7 [2]\n0 [2]\n5 [2]\n3 [4]\n7 [4]\n5 [2]\n1 [4]\n9 [2]\n1 [2]\n1 [4]\n2 [2]\n9 [2]\n0 [2]\n2 [2]\n0 [2]\n1 [4]\n1 [4]\n1 [4]\n5 [2]\n1 [4]\n8 [4]\n2 [2]\n1 [4]\n3 [4]\n7 [4]\n6 [2]\n6 [2]\n5 [4]\n3 [5]\n5 [4]\n2 [2]\n5 [4]\n4 [4]\n8 [4]\n1 [9]\n1 [4]\n6 [2]\n0 [2]\n9 [2]\n4 [4]\n9 [9]\n3 [2]\n6 [2]\n8 [4]\n5 [2]\n9 [9]\n0 [2]\n5 [2]\n8 [4]\n5 [2]\n3 [2]\n2 [2]\n3 [9]\n7 [4]\n1 [4]\n3 [2]\n7 [4]\n8 [4]\n5 [4]\n7 [2]\n3 [2]\n1 [4]\n3 [2]\n6 [4]\n0 [2]\n4 [2]\n6 [2]\n1 [9]\n3 [2]\n0 [2]\n4 [2]\n1 [4]\n9 [2]\n8 [4]\n3 [9]\n7 [4]\n3 [9]\n0 [2]\n0 [2]\n6 [2]\n7 [2]\n6 [2]\n5 [2]\n7 [4]\n8 [4]\n9 [9]\n1 [4]\n5 [2]\n9 [2]\n6 [2]\n4 [2]\n3 [9]\n9 [9]\n9 [2]\n7 [4]\n0 [2]\n1 [4]\n2 [4]\n0 [2]\n8 [4]\n9 [9]\n2 [2]\n8 [4]\n9 [5]\n8 [4]\n1 [4]\n9 [9]\n7 [4]\n7 [4]\n8 [4]\n5 [2]\n1 [4]\n9 [4]\n5 [2]\n0 [2]\n6 [2]\n9 [2]\n4 [2]\n7 [4]\n7 [2]\n4 [2]\n6 [2]\n9 [2]\n1 [4]\n5 [2]\n5 [2]\n3 [9]\n5 [2]\n5 [9]\n8 [4]\n5 [5]\n0 [2]\n5 [2]\n7 [4]\n1 [4]\n3 [9]\n7 [2]\n2 [2]\n3 [2]\n9 [2]\n8 [4]\n0 [2]\n6 [2]\n0 [2]\n1 [4]\n7 [4]\n3 [4]\n5 [2]\n7 [4]\n8 [4]\n4 [4]\n6 [2]\n8 [4]\n7 [4]\n2 [2]\n9 [2]\n0 [2]\n7 [4]\n0 [2]\n5 [2]\n7 [2]\n3 [2]\n4 [2]\n4 [4]\n9 [2]\n3 [4]\n9 [2]\n4 [2]\n8 [4]\n4 [4]\n8 [4]\n3 [9]\n3 [9]\n3 [9]\n8 [4]\n2 [2]\n0.9579124579124579\n"
     ]
    }
   ],
   "source": [
    "mlpclf=MLPClassifier(solver='lbfgs', activation='logistic',\n",
    "                     learning_rate='adaptive')\n",
    "mlpclf.fit(xtrain, ytrain)\n",
    "\n",
    "for i in range(len(xtest)):\n",
    "    img=xtest[i]\n",
    "    res=cv2.resize(img,dsize=(8,8),interpolation=cv2.INTER_CUBIC)\n",
    "    res=res.reshape((8*8))\n",
    "    res=res/255.\n",
    "    print(ytest[i], mlpclf.predict([res])) #clf.predict([res]) is an array\n",
    "  #  plt.imshow(np.reshape(img,(8, 8)), cmap=plt.cm.gray)\n",
    "    # plt.title('prediction: %i' % clf.predict([res]), fontsize=28)\n",
    "    # plt.show()\n",
    "print(mlpclf.score(xtest, ytest))"
   ]
  },
  {
   "cell_type": "code",
   "execution_count": 36,
   "metadata": {
    "collapsed": false
   },
   "outputs": [
    {
     "name": "stdout",
     "output_type": "stream",
     "text": [
      "pred= 4 \tlabelactual= 4\nthe label:  4 \tthe prediction:  4\nthe label:  9 \tthe prediction:  9\nthe label:  8 \tthe prediction:  8\nthe label:  4 \tthe prediction:  4\nthe label:  1 \tthe prediction:  1\nthe label:  9 \tthe prediction:  9\nthe label:  1 \tthe prediction:  1\nthe label:  3 \tthe prediction:  3\nthe label:  3 \tthe prediction:  3\nthe label:  0 \tthe prediction:  0\nthe label:  7 \tthe prediction:  7\nthe label:  6 \tthe prediction:  6\nthe label:  8 \tthe prediction:  3\nthe label:  0 \tthe prediction:  0\nthe label:  8 \tthe prediction:  8\nthe label:  7 \tthe prediction:  7\nthe label:  2 \tthe prediction:  2\nthe label:  0 \tthe prediction:  0\nthe label:  9 \tthe prediction:  9\nthe label:  6 \tthe prediction:  6\nthe label:  6 \tthe prediction:  6\nthe label:  5 \tthe prediction:  5\nthe label:  7 \tthe prediction:  7\nthe label:  0 \tthe prediction:  0\nthe label:  7 \tthe prediction:  7\nthe label:  7 \tthe prediction:  7\nthe label:  6 \tthe prediction:  6\nthe label:  0 \tthe prediction:  0\nthe label:  7 \tthe prediction:  7\nthe label:  2 \tthe prediction:  2\nthe label:  0 \tthe prediction:  0\nthe label:  2 \tthe prediction:  2\nthe label:  7 \tthe prediction:  7\nthe label:  1 \tthe prediction:  1\nthe label:  7 \tthe prediction:  7\nthe label:  3 \tthe prediction:  3\nthe label:  2 \tthe prediction:  2\nthe label:  0 \tthe prediction:  0\nthe label:  5 \tthe prediction:  5\nthe label:  6 \tthe prediction:  6\nthe label:  7 \tthe prediction:  7\nthe label:  6 \tthe prediction:  6\nthe label:  4 \tthe prediction:  4\nthe label:  4 \tthe prediction:  4\nthe label:  9 \tthe prediction:  9\nthe label:  5 \tthe prediction:  5\nthe label:  3 \tthe prediction:  3\nthe label:  0 \tthe prediction:  0\nthe label:  7 \tthe prediction:  7\nthe label:  4 \tthe prediction:  4\nthe label:  2 \tthe prediction:  2\nthe label:  3 \tthe prediction:  3\nthe label:  6 \tthe prediction:  6\nthe label:  0 \tthe prediction:  0\nthe label:  4 \tthe prediction:  4\nthe label:  8 \tthe prediction:  8\nthe label:  8 \tthe prediction:  8\nthe label:  1 \tthe prediction:  1\nthe label:  5 \tthe prediction:  5\nthe label:  8 \tthe prediction:  8\nthe label:  2 \tthe prediction:  2\nthe label:  1 \tthe prediction:  1\nthe label:  5 \tthe prediction:  5\nthe label:  1 \tthe prediction:  1\nthe label:  9 \tthe prediction:  9\nthe label:  1 \tthe prediction:  1\nthe label:  6 \tthe prediction:  6\nthe label:  2 \tthe prediction:  2\nthe label:  3 \tthe prediction:  3\nthe label:  7 \tthe prediction:  7\nthe label:  6 \tthe prediction:  6\nthe label:  8 \tthe prediction:  8\nthe label:  1 \tthe prediction:  9\nthe label:  2 \tthe prediction:  2\nthe label:  9 \tthe prediction:  7\nthe label:  0 \tthe prediction:  0\nthe label:  2 \tthe prediction:  2\nthe label:  0 \tthe prediction:  0\nthe label:  4 \tthe prediction:  4\nthe label:  5 \tthe prediction:  5\nthe label:  5 \tthe prediction:  5\nthe label:  7 \tthe prediction:  7\nthe label:  3 \tthe prediction:  3\nthe label:  6 \tthe prediction:  6\nthe label:  6 \tthe prediction:  6\nthe label:  9 \tthe prediction:  9\nthe label:  5 \tthe prediction:  5\nthe label:  7 \tthe prediction:  7\nthe label:  2 \tthe prediction:  2\nthe label:  3 \tthe prediction:  3\nthe label:  1 \tthe prediction:  1\nthe label:  5 \tthe prediction:  5\nthe label:  9 \tthe prediction:  9\nthe label:  6 \tthe prediction:  6\nthe label:  3 \tthe prediction:  3\nthe label:  5 \tthe prediction:  5\nthe label:  8 \tthe prediction:  8\nthe label:  9 \tthe prediction:  9\nthe label:  6 \tthe prediction:  6\nthe label:  6 \tthe prediction:  6\nthe label:  1 \tthe prediction:  1\nthe label:  3 \tthe prediction:  3\nthe label:  3 \tthe prediction:  3\nthe label:  5 \tthe prediction:  5\nthe label:  0 \tthe prediction:  0\nthe label:  0 \tthe prediction:  0\nthe label:  3 \tthe prediction:  3\nthe label:  5 \tthe prediction:  5\nthe label:  2 \tthe prediction:  8\nthe label:  1 \tthe prediction:  1\nthe label:  9 \tthe prediction:  7\nthe label:  3 \tthe prediction:  3\nthe label:  8 \tthe prediction:  8\nthe label:  0 \tthe prediction:  0\nthe label:  5 \tthe prediction:  5\nthe label:  0 \tthe prediction:  0\nthe label:  7 \tthe prediction:  7\nthe label:  3 \tthe prediction:  3\nthe label:  3 \tthe prediction:  3\nthe label:  9 \tthe prediction:  9\nthe label:  2 \tthe prediction:  2\nthe label:  3 \tthe prediction:  3\nthe label:  7 \tthe prediction:  7\nthe label:  3 \tthe prediction:  3\nthe label:  3 \tthe prediction:  3\nthe label:  7 \tthe prediction:  7\nthe label:  6 \tthe prediction:  6\nthe label:  8 \tthe prediction:  8\nthe label:  9 \tthe prediction:  9\nthe label:  0 \tthe prediction:  0\nthe label:  6 \tthe prediction:  6\nthe label:  8 \tthe prediction:  8\nthe label:  4 \tthe prediction:  4\nthe label:  4 \tthe prediction:  4\nthe label:  0 \tthe prediction:  0\nthe label:  9 \tthe prediction:  9\nthe label:  0 \tthe prediction:  0\nthe label:  2 \tthe prediction:  2\nthe label:  0 \tthe prediction:  0\nthe label:  7 \tthe prediction:  7\nthe label:  1 \tthe prediction:  1\nthe label:  4 \tthe prediction:  4\nthe label:  3 \tthe prediction:  3\nthe label:  3 \tthe prediction:  3\nthe label:  9 \tthe prediction:  9\nthe label:  0 \tthe prediction:  0\nthe label:  7 \tthe prediction:  7\nthe label:  1 \tthe prediction:  1\nthe label:  8 \tthe prediction:  1\nthe label:  6 \tthe prediction:  6\nthe label:  3 \tthe prediction:  3\nthe label:  6 \tthe prediction:  6\nthe label:  1 \tthe prediction:  1\nthe label:  6 \tthe prediction:  6\nthe label:  2 \tthe prediction:  2\nthe label:  2 \tthe prediction:  2\nthe label:  3 \tthe prediction:  3\nthe label:  2 \tthe prediction:  2\nthe label:  5 \tthe prediction:  5\nthe label:  6 \tthe prediction:  6\nthe label:  9 \tthe prediction:  9\nthe label:  7 \tthe prediction:  7\nthe label:  0 \tthe prediction:  0\nthe label:  1 \tthe prediction:  1\nthe label:  7 \tthe prediction:  7\nthe label:  1 \tthe prediction:  1\nthe label:  1 \tthe prediction:  1\nthe label:  1 \tthe prediction:  1\nthe label:  5 \tthe prediction:  5\nthe label:  8 \tthe prediction:  8\nthe label:  9 \tthe prediction:  9\nthe label:  6 \tthe prediction:  6\nthe label:  9 \tthe prediction:  9\nthe label:  4 \tthe prediction:  4\nthe label:  0 \tthe prediction:  0\nthe label:  4 \tthe prediction:  4\nthe label:  3 \tthe prediction:  3\nthe label:  3 \tthe prediction:  3\nthe label:  0 \tthe prediction:  0\nthe label:  1 \tthe prediction:  1\nthe label:  9 \tthe prediction:  9\nthe label:  3 \tthe prediction:  3\nthe label:  5 \tthe prediction:  5\nthe label:  2 \tthe prediction:  2\nthe label:  4 \tthe prediction:  4\nthe label:  9 \tthe prediction:  9\nthe label:  3 \tthe prediction:  3\nthe label:  0 \tthe prediction:  0\nthe label:  1 \tthe prediction:  1\nthe label:  0 \tthe prediction:  0\nthe label:  9 \tthe prediction:  9\nthe label:  4 \tthe prediction:  4\nthe label:  6 \tthe prediction:  6\nthe label:  2 \tthe prediction:  2\nthe label:  0 \tthe prediction:  0\nthe label:  7 \tthe prediction:  7\nthe label:  0 \tthe prediction:  0\nthe label:  7 \tthe prediction:  7\nthe label:  0 \tthe prediction:  0\nthe label:  1 \tthe prediction:  1\nthe label:  2 \tthe prediction:  2\nthe label:  8 \tthe prediction:  8\nthe label:  9 \tthe prediction:  9\nthe label:  5 \tthe prediction:  5\nthe label:  5 \tthe prediction:  5\nthe label:  0 \tthe prediction:  0\nthe label:  6 \tthe prediction:  1\nthe label:  9 \tthe prediction:  9\nthe label:  7 \tthe prediction:  7\nthe label:  6 \tthe prediction:  6\nthe label:  2 \tthe prediction:  2\nthe label:  0 \tthe prediction:  0\nthe label:  4 \tthe prediction:  4\nthe label:  0 \tthe prediction:  0\nthe label:  9 \tthe prediction:  9\nthe label:  2 \tthe prediction:  2\nthe label:  4 \tthe prediction:  4\nthe label:  6 \tthe prediction:  6\nthe label:  6 \tthe prediction:  6\nthe label:  0 \tthe prediction:  0\nthe label:  4 \tthe prediction:  4\nthe label:  1 \tthe prediction:  1\nthe label:  0 \tthe prediction:  0\nthe label:  3 \tthe prediction:  3\nthe label:  0 \tthe prediction:  0\nthe label:  8 \tthe prediction:  8\nthe label:  9 \tthe prediction:  9\nthe label:  0 \tthe prediction:  0\nthe label:  7 \tthe prediction:  7\nthe label:  6 \tthe prediction:  6\nthe label:  4 \tthe prediction:  4\nthe label:  4 \tthe prediction:  4\nthe label:  9 \tthe prediction:  9\nthe label:  1 \tthe prediction:  1\nthe label:  8 \tthe prediction:  8\nthe label:  2 \tthe prediction:  2\nthe label:  7 \tthe prediction:  7\nthe label:  3 \tthe prediction:  3\nthe label:  9 \tthe prediction:  9\nthe label:  7 \tthe prediction:  7\nthe label:  5 \tthe prediction:  5\nthe label:  3 \tthe prediction:  3\nthe label:  7 \tthe prediction:  7\nthe label:  8 \tthe prediction:  8\nthe label:  4 \tthe prediction:  4\nthe label:  4 \tthe prediction:  4\nthe label:  1 \tthe prediction:  1\nthe label:  7 \tthe prediction:  7\nthe label:  7 \tthe prediction:  7\nthe label:  6 \tthe prediction:  6\nthe label:  1 \tthe prediction:  1\nthe label:  3 \tthe prediction:  3\nthe label:  3 \tthe prediction:  3\nthe label:  5 \tthe prediction:  5\nthe label:  0 \tthe prediction:  0\nthe label:  0 \tthe prediction:  0\nthe label:  1 \tthe prediction:  1\nthe label:  5 \tthe prediction:  5\nthe label:  2 \tthe prediction:  2\nthe label:  2 \tthe prediction:  2\nthe label:  3 \tthe prediction:  3\nthe label:  3 \tthe prediction:  3\nthe label:  2 \tthe prediction:  2\nthe label:  1 \tthe prediction:  1\nthe label:  5 \tthe prediction:  5\nthe label:  2 \tthe prediction:  2\nthe label:  4 \tthe prediction:  1\nthe label:  1 \tthe prediction:  1\nthe label:  4 \tthe prediction:  4\nthe label:  7 \tthe prediction:  7\nthe label:  0 \tthe prediction:  0\nthe label:  8 \tthe prediction:  8\nthe label:  6 \tthe prediction:  6\nthe label:  3 \tthe prediction:  3\nthe label:  7 \tthe prediction:  7\nthe label:  6 \tthe prediction:  6\nthe label:  3 \tthe prediction:  3\nthe label:  3 \tthe prediction:  3\nthe label:  2 \tthe prediction:  2\nthe label:  2 \tthe prediction:  2\nthe label:  7 \tthe prediction:  7\nthe label:  2 \tthe prediction:  2\nthe label:  2 \tthe prediction:  2\nthe label:  8 \tthe prediction:  8\nthe label:  7 \tthe prediction:  7\nthe label:  8 \tthe prediction:  8\nthe label:  6 \tthe prediction:  6\nthe label:  1 \tthe prediction:  1\nthe label:  3 \tthe prediction:  3\nthe label:  3 \tthe prediction:  3\nthe label:  4 \tthe prediction:  4\nthe label:  7 \tthe prediction:  7\nthe label:  7 \tthe prediction:  7\nthe label:  7 \tthe prediction:  7\nthe label:  3 \tthe prediction:  3\nthe label:  8 \tthe prediction:  8\nthe label:  8 \tthe prediction:  8\nthe label:  6 \tthe prediction:  6\nthe label:  7 \tthe prediction:  7\nthe label:  9 \tthe prediction:  9\nthe label:  2 \tthe prediction:  2\nthe label:  4 \tthe prediction:  4\nthe label:  3 \tthe prediction:  3\nthe label:  7 \tthe prediction:  7\nthe label:  9 \tthe prediction:  9\nthe label:  0 \tthe prediction:  0\nthe label:  7 \tthe prediction:  7\nthe label:  8 \tthe prediction:  4\nthe label:  5 \tthe prediction:  5\nthe label:  2 \tthe prediction:  2\nthe label:  4 \tthe prediction:  4\nthe label:  9 \tthe prediction:  9\nthe label:  3 \tthe prediction:  3\nthe label:  5 \tthe prediction:  5\nthe label:  0 \tthe prediction:  0\nthe label:  6 \tthe prediction:  6\nthe label:  7 \tthe prediction:  7\nthe label:  3 \tthe prediction:  3\nthe label:  6 \tthe prediction:  6\nthe label:  6 \tthe prediction:  6\nthe label:  2 \tthe prediction:  2\nthe label:  1 \tthe prediction:  8\nthe label:  3 \tthe prediction:  3\nthe label:  5 \tthe prediction:  5\nthe label:  8 \tthe prediction:  8\nthe label:  8 \tthe prediction:  8\nthe label:  7 \tthe prediction:  7\nthe label:  9 \tthe prediction:  9\nthe label:  9 \tthe prediction:  9\nthe label:  2 \tthe prediction:  2\nthe label:  4 \tthe prediction:  4\nthe label:  2 \tthe prediction:  2\nthe label:  2 \tthe prediction:  2\nthe label:  4 \tthe prediction:  4\nthe label:  1 \tthe prediction:  1\nthe label:  2 \tthe prediction:  2\nthe label:  8 \tthe prediction:  8\nthe label:  5 \tthe prediction:  5\nthe label:  1 \tthe prediction:  1\nthe label:  1 \tthe prediction:  1\nthe label:  3 \tthe prediction:  3\nthe label:  8 \tthe prediction:  8\nthe label:  2 \tthe prediction:  2\nthe label:  7 \tthe prediction:  7\nthe label:  6 \tthe prediction:  6\nthe label:  9 \tthe prediction:  9\nthe label:  6 \tthe prediction:  6\nthe label:  0 \tthe prediction:  0\nthe label:  0 \tthe prediction:  0\nthe label:  8 \tthe prediction:  8\nthe label:  5 \tthe prediction:  5\nthe label:  4 \tthe prediction:  4\nthe label:  2 \tthe prediction:  2\nthe label:  2 \tthe prediction:  2\nthe label:  5 \tthe prediction:  5\nthe label:  7 \tthe prediction:  7\nthe label:  8 \tthe prediction:  8\nthe label:  7 \tthe prediction:  7\nthe label:  2 \tthe prediction:  3\nthe label:  6 \tthe prediction:  6\nthe label:  3 \tthe prediction:  3\nthe label:  4 \tthe prediction:  4\nthe label:  7 \tthe prediction:  7\nthe label:  1 \tthe prediction:  1\nthe label:  3 \tthe prediction:  3\nthe label:  4 \tthe prediction:  1\nthe label:  1 \tthe prediction:  1\nthe label:  9 \tthe prediction:  9\nthe label:  2 \tthe prediction:  2\nthe label:  4 \tthe prediction:  1\nthe label:  4 \tthe prediction:  4\nthe label:  0 \tthe prediction:  0\nthe label:  7 \tthe prediction:  7\nthe label:  1 \tthe prediction:  1\nthe label:  7 \tthe prediction:  7\nthe label:  1 \tthe prediction:  1\nthe label:  7 \tthe prediction:  7\nthe label:  6 \tthe prediction:  6\nthe label:  7 \tthe prediction:  7\nthe label:  8 \tthe prediction:  8\nthe label:  6 \tthe prediction:  6\nthe label:  6 \tthe prediction:  6\nthe label:  7 \tthe prediction:  7\nthe label:  9 \tthe prediction:  3\nthe label:  4 \tthe prediction:  4\nthe label:  0 \tthe prediction:  0\nthe label:  5 \tthe prediction:  5\nthe label:  8 \tthe prediction:  8\nthe label:  8 \tthe prediction:  8\nthe label:  6 \tthe prediction:  6\nthe label:  5 \tthe prediction:  5\nthe label:  4 \tthe prediction:  4\nthe label:  5 \tthe prediction:  5\nthe label:  1 \tthe prediction:  1\nthe label:  6 \tthe prediction:  6\nthe label:  0 \tthe prediction:  0\nthe label:  9 \tthe prediction:  9\nthe label:  9 \tthe prediction:  9\nthe label:  7 \tthe prediction:  7\nthe label:  0 \tthe prediction:  0\nthe label:  2 \tthe prediction:  2\nthe label:  7 \tthe prediction:  7\nthe label:  5 \tthe prediction:  5\nthe label:  4 \tthe prediction:  4\nthe label:  8 \tthe prediction:  8\nthe label:  3 \tthe prediction:  3\nthe label:  7 \tthe prediction:  7\nthe label:  8 \tthe prediction:  8\nthe label:  5 \tthe prediction:  5\nthe label:  9 \tthe prediction:  9\nthe label:  9 \tthe prediction:  9\nthe label:  3 \tthe prediction:  3\nthe label:  7 \tthe prediction:  7\nthe label:  2 \tthe prediction:  2\nthe label:  6 \tthe prediction:  6\nthe label:  7 \tthe prediction:  7\nthe label:  8 \tthe prediction:  8\nthe label:  4 \tthe prediction:  4\nthe label:  2 \tthe prediction:  2\nthe label:  5 \tthe prediction:  5\nthe label:  0 \tthe prediction:  0\nthe label:  9 \tthe prediction:  9\nthe label:  1 \tthe prediction:  1\nthe label:  0 \tthe prediction:  0\nthe label:  8 \tthe prediction:  8\nthe label:  9 \tthe prediction:  9\nthe label:  2 \tthe prediction:  2\nthe label:  5 \tthe prediction:  9\nthe label:  1 \tthe prediction:  1\nthe label:  6 \tthe prediction:  6\nthe label:  7 \tthe prediction:  7\nthe label:  7 \tthe prediction:  7\nthe label:  9 \tthe prediction:  9\nthe label:  9 \tthe prediction:  9\nthe label:  9 \tthe prediction:  9\nthe label:  6 \tthe prediction:  6\nthe label:  1 \tthe prediction:  1\nthe label:  1 \tthe prediction:  1\nthe label:  5 \tthe prediction:  5\nthe label:  6 \tthe prediction:  6\nthe label:  7 \tthe prediction:  7\nthe label:  2 \tthe prediction:  2\nthe label:  5 \tthe prediction:  5\nthe label:  0 \tthe prediction:  0\nthe label:  5 \tthe prediction:  5\nthe label:  0 \tthe prediction:  0\nthe label:  8 \tthe prediction:  8\nthe label:  4 \tthe prediction:  4\nthe label:  5 \tthe prediction:  5\nthe label:  2 \tthe prediction:  2\nthe label:  6 \tthe prediction:  6\nthe label:  3 \tthe prediction:  3\nthe label:  1 \tthe prediction:  1\nthe label:  7 \tthe prediction:  7\nthe label:  3 \tthe prediction:  3\nthe label:  2 \tthe prediction:  2\nthe label:  2 \tthe prediction:  2\nthe label:  7 \tthe prediction:  7\nthe label:  7 \tthe prediction:  7\nthe label:  0 \tthe prediction:  0\nthe label:  1 \tthe prediction:  1\nthe label:  1 \tthe prediction:  1\nthe label:  9 \tthe prediction:  9\nthe label:  2 \tthe prediction:  2\nthe label:  8 \tthe prediction:  8\nthe label:  8 \tthe prediction:  8\nthe label:  6 \tthe prediction:  6\nthe label:  2 \tthe prediction:  2\nthe label:  1 \tthe prediction:  1\nthe label:  8 \tthe prediction:  1\nthe label:  5 \tthe prediction:  5\nthe label:  0 \tthe prediction:  0\nthe label:  0 \tthe prediction:  0\nthe label:  5 \tthe prediction:  5\nthe label:  6 \tthe prediction:  5\nthe label:  3 \tthe prediction:  3\nthe label:  2 \tthe prediction:  2\nthe label:  5 \tthe prediction:  5\nthe label:  9 \tthe prediction:  9\nthe label:  2 \tthe prediction:  2\nthe label:  4 \tthe prediction:  4\nthe label:  8 \tthe prediction:  1\nthe label:  1 \tthe prediction:  1\nthe label:  3 \tthe prediction:  3\nthe label:  4 \tthe prediction:  4\nthe label:  9 \tthe prediction:  9\nthe label:  4 \tthe prediction:  4\nthe label:  0 \tthe prediction:  0\nthe label:  1 \tthe prediction:  1\nthe label:  9 \tthe prediction:  9\nthe label:  1 \tthe prediction:  1\nthe label:  6 \tthe prediction:  6\nthe label:  8 \tthe prediction:  8\nthe label:  0 \tthe prediction:  0\nthe label:  9 \tthe prediction:  9\nthe label:  3 \tthe prediction:  3\nthe label:  3 \tthe prediction:  3\nthe label:  4 \tthe prediction:  4\nthe label:  4 \tthe prediction:  4\nthe label:  3 \tthe prediction:  3\nthe label:  6 \tthe prediction:  6\nthe label:  8 \tthe prediction:  1\nthe label:  6 \tthe prediction:  6\nthe label:  3 \tthe prediction:  3\nthe label:  6 \tthe prediction:  6\nthe label:  4 \tthe prediction:  4\nthe label:  3 \tthe prediction:  3\nthe label:  9 \tthe prediction:  9\nthe label:  7 \tthe prediction:  7\nthe label:  6 \tthe prediction:  6\nthe label:  1 \tthe prediction:  1\nthe label:  4 \tthe prediction:  4\nthe label:  8 \tthe prediction:  1\nthe label:  9 \tthe prediction:  9\nthe label:  8 \tthe prediction:  1\nthe label:  4 \tthe prediction:  4\nthe label:  7 \tthe prediction:  7\nthe label:  8 \tthe prediction:  8\nthe label:  2 \tthe prediction:  2\nthe label:  8 \tthe prediction:  8\nthe label:  7 \tthe prediction:  7\nthe label:  2 \tthe prediction:  2\nthe label:  2 \tthe prediction:  2\nthe label:  0 \tthe prediction:  0\nthe label:  1 \tthe prediction:  1\nthe label:  8 \tthe prediction:  1\nthe label:  3 \tthe prediction:  3\nthe label:  1 \tthe prediction:  1\nthe label:  8 \tthe prediction:  8\nthe label:  1 \tthe prediction:  1\nthe label:  5 \tthe prediction:  9\nthe label:  0 \tthe prediction:  0\nthe label:  5 \tthe prediction:  5\nthe label:  4 \tthe prediction:  4\nthe label:  0 \tthe prediction:  0\nthe label:  6 \tthe prediction:  6\nthe label:  5 \tthe prediction:  5\nthe label:  9 \tthe prediction:  9\nthe label:  2 \tthe prediction:  2\nthe label:  0 \tthe prediction:  0\nthe label:  4 \tthe prediction:  4\nthe label:  4 \tthe prediction:  4\nthe label:  5 \tthe prediction:  5\nthe label:  0 \tthe prediction:  0\nthe label:  8 \tthe prediction:  8\nthe label:  0 \tthe prediction:  0\nthe label:  0 \tthe prediction:  0\nthe label:  4 \tthe prediction:  4\nthe label:  1 \tthe prediction:  1\nthe label:  3 \tthe prediction:  3\nthe label:  5 \tthe prediction:  5\nthe label:  3 \tthe prediction:  3\nthe label:  7 \tthe prediction:  7\nthe label:  8 \tthe prediction:  8\nthe label:  5 \tthe prediction:  5\nthe label:  2 \tthe prediction:  2\nthe label:  2 \tthe prediction:  2\nthe label:  0 \tthe prediction:  0\nthe label:  3 \tthe prediction:  3\nthe label:  3 \tthe prediction:  3\nthe label:  6 \tthe prediction:  6\nthe label:  4 \tthe prediction:  7\nthe label:  2 \tthe prediction:  2\nthe label:  0 \tthe prediction:  0\nthe label:  7 \tthe prediction:  7\nthe label:  8 \tthe prediction:  8\nthe label:  0 \tthe prediction:  0\nthe label:  7 \tthe prediction:  7\nthe label:  8 \tthe prediction:  8\nthe label:  5 \tthe prediction:  5\nthe label:  4 \tthe prediction:  4\nthe label:  5 \tthe prediction:  5\nthe label:  2 \tthe prediction:  2\nthe label:  5 \tthe prediction:  5\nthe label:  4 \tthe prediction:  4\nthe label:  3 \tthe prediction:  3\nthe label:  8 \tthe prediction:  8\nthe label:  7 \tthe prediction:  7\nthe label:  2 \tthe prediction:  2\nthe label:  4 \tthe prediction:  4\nthe label:  5 \tthe prediction:  5\nthe label:  2 \tthe prediction:  2\nthe label:  0 \tthe prediction:  0\nthe label:  8 \tthe prediction:  8\nthe label:  7 \tthe prediction:  7\nthe label:  4 \tthe prediction:  4\nthe label:  5 \tthe prediction:  5\nthe label:  3 \tthe prediction:  3\nthe label:  0 \tthe prediction:  0\nthe label:  2 \tthe prediction:  2\nthe label:  3 \tthe prediction:  3\nthe label:  6 \tthe prediction:  6\nthe label:  1 \tthe prediction:  1\nthe label:  8 \tthe prediction:  8\n0.9595959595959596\n"
     ]
    }
   ],
   "source": [
    "logclf=LogisticRegression(solver='saga',max_iter=10000\n",
    "                          ,n_jobs=4,multi_class='ovr')\n",
    "\n",
    "logclf.fit(xtrain,ytrain)\n",
    "l=logclf.predict(xtest[0].reshape(1,-1))[0]\n",
    "print('pred=',l,'\\tlabelactual=',ytest[0])\n",
    "\n",
    "for i in range(len(xtest)):\n",
    "    img=xtest[i]\n",
    "    print('the label: ',ytest[i],'\\tthe prediction: ',logclf.predict(img.reshape(1,-1))[0]) #clf.predict([res]) is an array\n",
    "    # plt.imshow(np.reshape(img,(8, 8)), cmap=plt.cm.gray)\n",
    "    # plt.title('prediction: %i' % logclf.predict([img]), fontsize=28)\n",
    "    # plt.show()\n",
    "print(logclf.score(xtest, ytest))"
   ]
  },
  {
   "cell_type": "code",
   "execution_count": 35,
   "metadata": {},
   "outputs": [
    {
     "name": "stdout",
     "output_type": "stream",
     "text": [
      "594\n"
     ]
    },
    {
     "data": {
      "text/plain": [
       "593"
      ]
     },
     "execution_count": 35,
     "metadata": {},
     "output_type": "execute_result"
    }
   ],
   "source": [
    "yt=np.array(ytest)\n",
    "print(len(yt))\n",
    "yt=np.delete(yt,yt[np.where(yt==3)][0])\n",
    "len(yt)"
   ]
  },
  {
   "cell_type": "code",
   "execution_count": 38,
   "metadata": {},
   "outputs": [
    {
     "ename": "StdinNotImplementedError",
     "evalue": "raw_input was called, but this frontend does not support input requests.",
     "traceback": [
      "\u001b[1;31m---------------------------------------------------------------------------\u001b[0m",
      "\u001b[1;31mStdinNotImplementedError\u001b[0m                  Traceback (most recent call last)",
      "\u001b[1;32m<ipython-input-38-71280522acb0>\u001b[0m in \u001b[0;36m<module>\u001b[1;34m()\u001b[0m\n\u001b[1;32m----> 1\u001b[1;33m \u001b[0ms\u001b[0m\u001b[1;33m=\u001b[0m\u001b[0mint\u001b[0m\u001b[1;33m(\u001b[0m\u001b[0minput\u001b[0m\u001b[1;33m(\u001b[0m\u001b[1;34m'2+6='\u001b[0m\u001b[1;33m)\u001b[0m\u001b[1;33m)\u001b[0m\u001b[1;33m\u001b[0m\u001b[0m\n\u001b[0m",
      "\u001b[1;32mC:\\Python\\Anaconda\\lib\\site-packages\\ipykernel\\kernelbase.py\u001b[0m in \u001b[0;36mraw_input\u001b[1;34m(self, prompt)\u001b[0m\n\u001b[0;32m    697\u001b[0m         \u001b[1;32mif\u001b[0m \u001b[1;32mnot\u001b[0m \u001b[0mself\u001b[0m\u001b[1;33m.\u001b[0m\u001b[0m_allow_stdin\u001b[0m\u001b[1;33m:\u001b[0m\u001b[1;33m\u001b[0m\u001b[0m\n\u001b[0;32m    698\u001b[0m             raise StdinNotImplementedError(\n\u001b[1;32m--> 699\u001b[1;33m                 \u001b[1;34m\"raw_input was called, but this frontend does not support input requests.\"\u001b[0m\u001b[1;33m\u001b[0m\u001b[0m\n\u001b[0m\u001b[0;32m    700\u001b[0m             )\n\u001b[0;32m    701\u001b[0m         return self._input_request(str(prompt),\n",
      "\u001b[1;31mStdinNotImplementedError\u001b[0m: raw_input was called, but this frontend does not support input requests."
     ],
     "output_type": "error"
    }
   ],
   "source": [
    "s=int(input('2+6='))"
   ]
  }
 ],
 "metadata": {
  "kernelspec": {
   "display_name": "Python 2",
   "language": "python",
   "name": "python2"
  },
  "language_info": {
   "codemirror_mode": {
    "name": "ipython",
    "version": 2
   },
   "file_extension": ".py",
   "mimetype": "text/x-python",
   "name": "python",
   "nbconvert_exporter": "python",
   "pygments_lexer": "ipython2",
   "version": "2.7.6"
  }
 },
 "nbformat": 4,
 "nbformat_minor": 0
}

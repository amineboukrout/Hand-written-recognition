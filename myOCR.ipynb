{
 "cells": [
  {
   "cell_type": "code",
   "execution_count": 60,
   "metadata": {
    "collapsed": true
   },
   "outputs": [],
   "source": [
    "import numpy as np\n",
    "import pandas as pd\n",
    "from PIL import Image as pilm\n",
    "np.set_printoptions(threshold=np.nan)\n",
    "from IPython.display import Image"
   ]
  },
  {
   "cell_type": "code",
   "execution_count": 61,
   "metadata": {},
   "outputs": [],
   "source": [
    "image=pilm.open('bim.jpg')\n",
    "imageGray=image.convert('L')\n",
    "bw=imageGray.point(lambda x: 0 if x<128 else 255,'1')\n",
    "bw.show()"
   ]
  },
  {
   "cell_type": "code",
   "execution_count": 11,
   "metadata": {},
   "outputs": [],
   "source": [
    "def image2vector(image):\n",
    "    image_height, image_width = image.shape\n",
    "    image_vector = np.reshape(image, image_height*image_width)\n",
    "    return image_vector"
   ]
  },
  {
   "cell_type": "code",
   "execution_count": 54,
   "metadata": {},
   "outputs": [],
   "source": [
    "imarr=np.array(imageGray)\n",
    "iv=image2vector(imarr)"
   ]
  },
  {
   "cell_type": "code",
   "execution_count": 56,
   "metadata": {},
   "outputs": [],
   "source": [
    "#determine pixel intensity\n",
    "def ii(xx,yy):\n",
    "    global img,img_x,img_y\n",
    "    if yy>=img_y or xx>=img_x:\n",
    "        print('pixel out of bounds for x=',xx,'and y=',yy)\n",
    "        return 0\n",
    "    pixel=img[xx][yy]\n",
    "    return 0.3*pixel[2]+0.59*pixel[1]+0.11*pixel[0]\n"
   ]
  },
  {
   "cell_type": "code",
   "execution_count": 58,
   "metadata": {},
   "outputs": [],
   "source": [
    "def connected(contour):\n",
    "    first=contour[0][0]\n",
    "    last=contour[len(contour)-1][0]\n",
    "    return abs(first[0]-last[0])<=1 and abs(first[1])"
   ]
  },
  {
   "cell_type": "code",
   "execution_count": 68,
   "metadata": {},
   "outputs": [],
   "source": [
    "mnsist=pilm.open('mnist_originals.png')\n",
    "mnsist.show()"
   ]
  },
  {
   "cell_type": "code",
   "execution_count": 67,
   "metadata": {},
   "outputs": [
    {
     "data": {
      "text/plain": [
       "'1.0.0'"
      ]
     },
     "execution_count": 67,
     "metadata": {},
     "output_type": "execute_result"
    }
   ],
   "source": [
    "import cntk "
   ]
  }
 ],
 "metadata": {
  "kernelspec": {
   "display_name": "Python 2",
   "language": "python",
   "name": "python2"
  },
  "language_info": {
   "codemirror_mode": {
    "name": "ipython",
    "version": 2
   },
   "file_extension": ".py",
   "mimetype": "text/x-python",
   "name": "python",
   "nbconvert_exporter": "python",
   "pygments_lexer": "ipython2",
   "version": "2.7.6"
  }
 },
 "nbformat": 4,
 "nbformat_minor": 0
}
